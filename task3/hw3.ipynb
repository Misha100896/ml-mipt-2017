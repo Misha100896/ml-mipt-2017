{
 "cells": [
  {
   "cell_type": "code",
   "execution_count": 2,
   "metadata": {
    "collapsed": true
   },
   "outputs": [],
   "source": [
    "import pandas as pd\n",
    "import numpy as np\n",
    "import xgboost\n",
    "from xgboost import XGBRegressor\n",
    "from sklearn.ensemble import GradientBoostingRegressor\n",
    "import matplotlib.pyplot as plt\n",
    "%matplotlib inline"
   ]
  },
  {
   "cell_type": "code",
   "execution_count": 3,
   "metadata": {
    "collapsed": true
   },
   "outputs": [],
   "source": [
    "train = pd.read_csv(\"train.tsv\")\n",
    "test = pd.read_csv(\"test.tsv\")\n",
    "sample_submission = pd.read_csv(\"sample_submission.tsv\")"
   ]
  },
  {
   "cell_type": "code",
   "execution_count": 5,
   "metadata": {},
   "outputs": [
    {
     "data": {
      "text/html": [
       "<div>\n",
       "<style>\n",
       "    .dataframe thead tr:only-child th {\n",
       "        text-align: right;\n",
       "    }\n",
       "\n",
       "    .dataframe thead th {\n",
       "        text-align: left;\n",
       "    }\n",
       "\n",
       "    .dataframe tbody tr th {\n",
       "        vertical-align: top;\n",
       "    }\n",
       "</style>\n",
       "<table border=\"1\" class=\"dataframe\">\n",
       "  <thead>\n",
       "    <tr style=\"text-align: right;\">\n",
       "      <th></th>\n",
       "      <th>Num</th>\n",
       "      <th>year</th>\n",
       "      <th>week</th>\n",
       "      <th>shift</th>\n",
       "      <th>item_id</th>\n",
       "      <th>f1</th>\n",
       "      <th>f2</th>\n",
       "      <th>f3</th>\n",
       "      <th>f4</th>\n",
       "      <th>f5</th>\n",
       "      <th>...</th>\n",
       "      <th>f51</th>\n",
       "      <th>f52</th>\n",
       "      <th>f53</th>\n",
       "      <th>f54</th>\n",
       "      <th>f55</th>\n",
       "      <th>f56</th>\n",
       "      <th>f57</th>\n",
       "      <th>f58</th>\n",
       "      <th>f59</th>\n",
       "      <th>f60</th>\n",
       "    </tr>\n",
       "  </thead>\n",
       "  <tbody>\n",
       "    <tr>\n",
       "      <th>0</th>\n",
       "      <td>348622</td>\n",
       "      <td>2015</td>\n",
       "      <td>3</td>\n",
       "      <td>3</td>\n",
       "      <td>20447918</td>\n",
       "      <td>960.0</td>\n",
       "      <td>820.0</td>\n",
       "      <td>1128.0</td>\n",
       "      <td>1801.0</td>\n",
       "      <td>1045.0</td>\n",
       "      <td>...</td>\n",
       "      <td>1510.0</td>\n",
       "      <td>580.0</td>\n",
       "      <td>969.0</td>\n",
       "      <td>1635.0</td>\n",
       "      <td>895.0</td>\n",
       "      <td>2140.0</td>\n",
       "      <td>1182.0</td>\n",
       "      <td>1020.0</td>\n",
       "      <td>1293.0</td>\n",
       "      <td>1290.0</td>\n",
       "    </tr>\n",
       "    <tr>\n",
       "      <th>1</th>\n",
       "      <td>348623</td>\n",
       "      <td>2015</td>\n",
       "      <td>3</td>\n",
       "      <td>3</td>\n",
       "      <td>20447902</td>\n",
       "      <td>9086.0</td>\n",
       "      <td>12585.0</td>\n",
       "      <td>11595.0</td>\n",
       "      <td>9685.0</td>\n",
       "      <td>12917.0</td>\n",
       "      <td>...</td>\n",
       "      <td>22055.0</td>\n",
       "      <td>14235.0</td>\n",
       "      <td>21195.0</td>\n",
       "      <td>18280.0</td>\n",
       "      <td>18270.0</td>\n",
       "      <td>15851.0</td>\n",
       "      <td>16920.0</td>\n",
       "      <td>18320.0</td>\n",
       "      <td>24116.0</td>\n",
       "      <td>21307.0</td>\n",
       "    </tr>\n",
       "    <tr>\n",
       "      <th>2</th>\n",
       "      <td>348624</td>\n",
       "      <td>2015</td>\n",
       "      <td>3</td>\n",
       "      <td>3</td>\n",
       "      <td>20447732</td>\n",
       "      <td>115087.0</td>\n",
       "      <td>147287.0</td>\n",
       "      <td>176065.0</td>\n",
       "      <td>143105.0</td>\n",
       "      <td>202069.0</td>\n",
       "      <td>...</td>\n",
       "      <td>302165.0</td>\n",
       "      <td>162232.0</td>\n",
       "      <td>221622.0</td>\n",
       "      <td>256605.0</td>\n",
       "      <td>240047.0</td>\n",
       "      <td>236630.0</td>\n",
       "      <td>206697.0</td>\n",
       "      <td>245652.0</td>\n",
       "      <td>286179.0</td>\n",
       "      <td>285904.0</td>\n",
       "    </tr>\n",
       "    <tr>\n",
       "      <th>3</th>\n",
       "      <td>348625</td>\n",
       "      <td>2015</td>\n",
       "      <td>3</td>\n",
       "      <td>3</td>\n",
       "      <td>20443951</td>\n",
       "      <td>20900.0</td>\n",
       "      <td>24420.0</td>\n",
       "      <td>27068.0</td>\n",
       "      <td>20460.0</td>\n",
       "      <td>25580.0</td>\n",
       "      <td>...</td>\n",
       "      <td>39055.0</td>\n",
       "      <td>14445.0</td>\n",
       "      <td>22450.0</td>\n",
       "      <td>22093.0</td>\n",
       "      <td>31175.0</td>\n",
       "      <td>23355.0</td>\n",
       "      <td>15358.0</td>\n",
       "      <td>18930.0</td>\n",
       "      <td>29643.0</td>\n",
       "      <td>33970.0</td>\n",
       "    </tr>\n",
       "    <tr>\n",
       "      <th>4</th>\n",
       "      <td>348626</td>\n",
       "      <td>2015</td>\n",
       "      <td>3</td>\n",
       "      <td>3</td>\n",
       "      <td>20443944</td>\n",
       "      <td>4430.0</td>\n",
       "      <td>5864.0</td>\n",
       "      <td>3310.0</td>\n",
       "      <td>1853.0</td>\n",
       "      <td>2836.0</td>\n",
       "      <td>...</td>\n",
       "      <td>120.0</td>\n",
       "      <td>130.0</td>\n",
       "      <td>60.0</td>\n",
       "      <td>30.0</td>\n",
       "      <td>50.0</td>\n",
       "      <td>20.0</td>\n",
       "      <td>20.0</td>\n",
       "      <td>30.0</td>\n",
       "      <td>0.0</td>\n",
       "      <td>0.0</td>\n",
       "    </tr>\n",
       "  </tbody>\n",
       "</table>\n",
       "<p>5 rows × 65 columns</p>\n",
       "</div>"
      ],
      "text/plain": [
       "      Num  year  week  shift   item_id        f1        f2        f3  \\\n",
       "0  348622  2015     3      3  20447918     960.0     820.0    1128.0   \n",
       "1  348623  2015     3      3  20447902    9086.0   12585.0   11595.0   \n",
       "2  348624  2015     3      3  20447732  115087.0  147287.0  176065.0   \n",
       "3  348625  2015     3      3  20443951   20900.0   24420.0   27068.0   \n",
       "4  348626  2015     3      3  20443944    4430.0    5864.0    3310.0   \n",
       "\n",
       "         f4        f5    ...          f51       f52       f53       f54  \\\n",
       "0    1801.0    1045.0    ...       1510.0     580.0     969.0    1635.0   \n",
       "1    9685.0   12917.0    ...      22055.0   14235.0   21195.0   18280.0   \n",
       "2  143105.0  202069.0    ...     302165.0  162232.0  221622.0  256605.0   \n",
       "3   20460.0   25580.0    ...      39055.0   14445.0   22450.0   22093.0   \n",
       "4    1853.0    2836.0    ...        120.0     130.0      60.0      30.0   \n",
       "\n",
       "        f55       f56       f57       f58       f59       f60  \n",
       "0     895.0    2140.0    1182.0    1020.0    1293.0    1290.0  \n",
       "1   18270.0   15851.0   16920.0   18320.0   24116.0   21307.0  \n",
       "2  240047.0  236630.0  206697.0  245652.0  286179.0  285904.0  \n",
       "3   31175.0   23355.0   15358.0   18930.0   29643.0   33970.0  \n",
       "4      50.0      20.0      20.0      30.0       0.0       0.0  \n",
       "\n",
       "[5 rows x 65 columns]"
      ]
     },
     "execution_count": 5,
     "metadata": {},
     "output_type": "execute_result"
    }
   ],
   "source": [
    "test.head()"
   ]
  },
  {
   "cell_type": "code",
   "execution_count": 6,
   "metadata": {
    "collapsed": true
   },
   "outputs": [],
   "source": [
    "def smape(y_pred, y_true):\n",
    "    assert(len(y_pred) == len(y_true))\n",
    "    \n",
    "    numerator = abs(y_pred - y_true)\n",
    "    denomerator = (abs(y_pred) + abs(y_true)) / 2\n",
    "    ans = (100.0 / len(y_pred)) * np.sum(numerator / denomerator)\n",
    "    return ans"
   ]
  },
  {
   "cell_type": "code",
   "execution_count": 7,
   "metadata": {},
   "outputs": [
    {
     "name": "stdout",
     "output_type": "stream",
     "text": [
      "28983\n"
     ]
    }
   ],
   "source": [
    "frac = 0.4\n",
    "\n",
    "train_sampled = train.sample(frac=frac)\n",
    "\n",
    "print(len(train_sampled))"
   ]
  },
  {
   "cell_type": "code",
   "execution_count": 8,
   "metadata": {},
   "outputs": [
    {
     "name": "stdout",
     "output_type": "stream",
     "text": [
      "(9689, 19294)\n"
     ]
    }
   ],
   "source": [
    "only_3_shift = train_sampled[train_sampled['shift'] == 3]\n",
    "only_not_3_shift = train_sampled[train_sampled['shift'] != 3]\n",
    "print(len(only_3_shift), len(only_not_3_shift))"
   ]
  },
  {
   "cell_type": "code",
   "execution_count": 11,
   "metadata": {
    "collapsed": true
   },
   "outputs": [],
   "source": [
    "only_3_shift_w_mean = only_3_shift.copy()\n",
    "only_3_shift_w_mean['mean'] = only_3_shift[only_3_shift.columns.values[6:]].mean(axis=1)"
   ]
  },
  {
   "cell_type": "code",
   "execution_count": 12,
   "metadata": {},
   "outputs": [
    {
     "data": {
      "text/html": [
       "<div>\n",
       "<style>\n",
       "    .dataframe thead tr:only-child th {\n",
       "        text-align: right;\n",
       "    }\n",
       "\n",
       "    .dataframe thead th {\n",
       "        text-align: left;\n",
       "    }\n",
       "\n",
       "    .dataframe tbody tr th {\n",
       "        vertical-align: top;\n",
       "    }\n",
       "</style>\n",
       "<table border=\"1\" class=\"dataframe\">\n",
       "  <thead>\n",
       "    <tr style=\"text-align: right;\">\n",
       "      <th></th>\n",
       "      <th>Num</th>\n",
       "      <th>y</th>\n",
       "      <th>year</th>\n",
       "      <th>week</th>\n",
       "      <th>shift</th>\n",
       "      <th>item_id</th>\n",
       "      <th>f1</th>\n",
       "      <th>f2</th>\n",
       "      <th>f3</th>\n",
       "      <th>f4</th>\n",
       "      <th>...</th>\n",
       "      <th>f52</th>\n",
       "      <th>f53</th>\n",
       "      <th>f54</th>\n",
       "      <th>f55</th>\n",
       "      <th>f56</th>\n",
       "      <th>f57</th>\n",
       "      <th>f58</th>\n",
       "      <th>f59</th>\n",
       "      <th>f60</th>\n",
       "      <th>mean</th>\n",
       "    </tr>\n",
       "  </thead>\n",
       "  <tbody>\n",
       "    <tr>\n",
       "      <th>26860</th>\n",
       "      <td>130900</td>\n",
       "      <td>179469</td>\n",
       "      <td>2013</td>\n",
       "      <td>40</td>\n",
       "      <td>3</td>\n",
       "      <td>20438711</td>\n",
       "      <td>81696.0</td>\n",
       "      <td>131539.0</td>\n",
       "      <td>70345.0</td>\n",
       "      <td>89040.0</td>\n",
       "      <td>...</td>\n",
       "      <td>112140.0</td>\n",
       "      <td>123525.0</td>\n",
       "      <td>120429.0</td>\n",
       "      <td>110120.0</td>\n",
       "      <td>111974.0</td>\n",
       "      <td>118976.0</td>\n",
       "      <td>126642.0</td>\n",
       "      <td>99802.0</td>\n",
       "      <td>109937.0</td>\n",
       "      <td>105445.066667</td>\n",
       "    </tr>\n",
       "    <tr>\n",
       "      <th>17209</th>\n",
       "      <td>83328</td>\n",
       "      <td>26194</td>\n",
       "      <td>2013</td>\n",
       "      <td>26</td>\n",
       "      <td>3</td>\n",
       "      <td>20437676</td>\n",
       "      <td>8812.0</td>\n",
       "      <td>9145.0</td>\n",
       "      <td>13155.0</td>\n",
       "      <td>6400.0</td>\n",
       "      <td>...</td>\n",
       "      <td>8787.0</td>\n",
       "      <td>8780.0</td>\n",
       "      <td>12558.0</td>\n",
       "      <td>11190.0</td>\n",
       "      <td>8785.0</td>\n",
       "      <td>14320.0</td>\n",
       "      <td>14620.0</td>\n",
       "      <td>17540.0</td>\n",
       "      <td>10900.0</td>\n",
       "      <td>10730.066667</td>\n",
       "    </tr>\n",
       "    <tr>\n",
       "      <th>30732</th>\n",
       "      <td>150831</td>\n",
       "      <td>61627</td>\n",
       "      <td>2013</td>\n",
       "      <td>46</td>\n",
       "      <td>3</td>\n",
       "      <td>20453393</td>\n",
       "      <td>24438.0</td>\n",
       "      <td>6998.0</td>\n",
       "      <td>8278.0</td>\n",
       "      <td>9652.0</td>\n",
       "      <td>...</td>\n",
       "      <td>111902.0</td>\n",
       "      <td>61616.0</td>\n",
       "      <td>65226.0</td>\n",
       "      <td>53015.0</td>\n",
       "      <td>71247.0</td>\n",
       "      <td>110784.0</td>\n",
       "      <td>54229.0</td>\n",
       "      <td>47362.0</td>\n",
       "      <td>42126.0</td>\n",
       "      <td>39804.566667</td>\n",
       "    </tr>\n",
       "    <tr>\n",
       "      <th>35505</th>\n",
       "      <td>174280</td>\n",
       "      <td>234908</td>\n",
       "      <td>2014</td>\n",
       "      <td>1</td>\n",
       "      <td>3</td>\n",
       "      <td>20435814</td>\n",
       "      <td>163767.0</td>\n",
       "      <td>243118.0</td>\n",
       "      <td>144349.0</td>\n",
       "      <td>123366.0</td>\n",
       "      <td>...</td>\n",
       "      <td>138331.0</td>\n",
       "      <td>139847.0</td>\n",
       "      <td>196333.0</td>\n",
       "      <td>79785.0</td>\n",
       "      <td>144177.0</td>\n",
       "      <td>144207.0</td>\n",
       "      <td>187463.0</td>\n",
       "      <td>102670.0</td>\n",
       "      <td>133635.0</td>\n",
       "      <td>161835.300000</td>\n",
       "    </tr>\n",
       "    <tr>\n",
       "      <th>11726</th>\n",
       "      <td>55847</td>\n",
       "      <td>6314</td>\n",
       "      <td>2013</td>\n",
       "      <td>18</td>\n",
       "      <td>3</td>\n",
       "      <td>20439405</td>\n",
       "      <td>3940.0</td>\n",
       "      <td>3760.0</td>\n",
       "      <td>2095.0</td>\n",
       "      <td>2092.0</td>\n",
       "      <td>...</td>\n",
       "      <td>3245.0</td>\n",
       "      <td>3483.0</td>\n",
       "      <td>3087.0</td>\n",
       "      <td>2490.0</td>\n",
       "      <td>1910.0</td>\n",
       "      <td>4415.0</td>\n",
       "      <td>3765.0</td>\n",
       "      <td>3428.0</td>\n",
       "      <td>3180.0</td>\n",
       "      <td>2891.166667</td>\n",
       "    </tr>\n",
       "  </tbody>\n",
       "</table>\n",
       "<p>5 rows × 67 columns</p>\n",
       "</div>"
      ],
      "text/plain": [
       "          Num       y  year  week  shift   item_id        f1        f2  \\\n",
       "26860  130900  179469  2013    40      3  20438711   81696.0  131539.0   \n",
       "17209   83328   26194  2013    26      3  20437676    8812.0    9145.0   \n",
       "30732  150831   61627  2013    46      3  20453393   24438.0    6998.0   \n",
       "35505  174280  234908  2014     1      3  20435814  163767.0  243118.0   \n",
       "11726   55847    6314  2013    18      3  20439405    3940.0    3760.0   \n",
       "\n",
       "             f3        f4      ...             f52       f53       f54  \\\n",
       "26860   70345.0   89040.0      ...        112140.0  123525.0  120429.0   \n",
       "17209   13155.0    6400.0      ...          8787.0    8780.0   12558.0   \n",
       "30732    8278.0    9652.0      ...        111902.0   61616.0   65226.0   \n",
       "35505  144349.0  123366.0      ...        138331.0  139847.0  196333.0   \n",
       "11726    2095.0    2092.0      ...          3245.0    3483.0    3087.0   \n",
       "\n",
       "            f55       f56       f57       f58       f59       f60  \\\n",
       "26860  110120.0  111974.0  118976.0  126642.0   99802.0  109937.0   \n",
       "17209   11190.0    8785.0   14320.0   14620.0   17540.0   10900.0   \n",
       "30732   53015.0   71247.0  110784.0   54229.0   47362.0   42126.0   \n",
       "35505   79785.0  144177.0  144207.0  187463.0  102670.0  133635.0   \n",
       "11726    2490.0    1910.0    4415.0    3765.0    3428.0    3180.0   \n",
       "\n",
       "                mean  \n",
       "26860  105445.066667  \n",
       "17209   10730.066667  \n",
       "30732   39804.566667  \n",
       "35505  161835.300000  \n",
       "11726    2891.166667  \n",
       "\n",
       "[5 rows x 67 columns]"
      ]
     },
     "execution_count": 12,
     "metadata": {},
     "output_type": "execute_result"
    }
   ],
   "source": [
    "only_3_shift_w_mean.head()"
   ]
  },
  {
   "cell_type": "code",
   "execution_count": 14,
   "metadata": {},
   "outputs": [
    {
     "name": "stdout",
     "output_type": "stream",
     "text": [
      "(20210, 41378)\n",
      "Wall time: 101 ms\n"
     ]
    },
    {
     "name": "stderr",
     "output_type": "stream",
     "text": [
      "C:\\Program Files\\Anaconda3\\lib\\site-packages\\ipykernel\\__main__.py:14: RuntimeWarning: overflow encountered in exp\n"
     ]
    }
   ],
   "source": [
    "%%time\n",
    "\n",
    "frac = 0.85\n",
    "valid = train.sample(frac=frac)\n",
    "\n",
    "valid_3_shift = valid[valid['shift'] == 3]\n",
    "valid_others = valid[valid['shift'] != 3]\n",
    "\n",
    "print(len(valid_3_shift), len(valid_others))\n",
    "\n",
    "valid_3_shift_w_mean = valid_3_shift.copy()\n",
    "valid_3_shift_w_mean['mean'] = valid_3_shift[valid_3_shift.columns.values[6:]].mean(axis=1)\n",
    "\n",
    "valid_others_w_mean = valid_3_shift.copy()\n",
    "valid_others_w_mean['mean'] = np.exp(valid_others_w_mean[valid_others_w_mean.columns.values[6:]].mean(axis=1))\n",
    "valid_others_w_mean['y'] = np.sqrt(valid_others_w_mean['y'])"
   ]
  },
  {
   "cell_type": "code",
   "execution_count": 16,
   "metadata": {},
   "outputs": [
    {
     "name": "stdout",
     "output_type": "stream",
     "text": [
      "Wall time: 17.9 s\n"
     ]
    }
   ],
   "source": [
    "%%time\n",
    "\n",
    "model_xg = xgboost.XGBRegressor(n_estimators=150, max_depth=20)\n",
    "model_xg.fit(only_3_shift_w_mean.drop(['Num', 'y'], axis=1), only_3_shift_w_mean['y'])"
   ]
  },
  {
   "cell_type": "code",
   "execution_count": 17,
   "metadata": {},
   "outputs": [
    {
     "data": {
      "text/plain": [
       "15.539817753432706"
      ]
     },
     "execution_count": 17,
     "metadata": {},
     "output_type": "execute_result"
    }
   ],
   "source": [
    "smape(model_xg.predict(valid_3_shift_w_mean.drop(['Num', 'y'], axis=1)), valid_3_shift_w_mean['y'])"
   ]
  },
  {
   "cell_type": "code",
   "execution_count": 18,
   "metadata": {},
   "outputs": [
    {
     "name": "stderr",
     "output_type": "stream",
     "text": [
      "C:\\Program Files\\Anaconda3\\lib\\site-packages\\ipykernel\\__main__.py:2: RuntimeWarning: overflow encountered in exp\n",
      "  from ipykernel import kernelapp as app\n"
     ]
    }
   ],
   "source": [
    "others = only_not_3_shift.copy()\n",
    "others['mean'] = np.exp(others[others.columns.values[6:]].mean(axis=1))\n",
    "others['y'] = np.sqrt(others['y'])"
   ]
  },
  {
   "cell_type": "code",
   "execution_count": 19,
   "metadata": {},
   "outputs": [
    {
     "data": {
      "text/plain": [
       "XGBRegressor(base_score=0.5, colsample_bylevel=1, colsample_bytree=1, gamma=0,\n",
       "       learning_rate=0.1, max_delta_step=0, max_depth=20,\n",
       "       min_child_weight=1, missing=None, n_estimators=150, nthread=-1,\n",
       "       objective='reg:linear', reg_alpha=0, reg_lambda=1,\n",
       "       scale_pos_weight=1, seed=0, silent=True, subsample=1)"
      ]
     },
     "execution_count": 19,
     "metadata": {},
     "output_type": "execute_result"
    }
   ],
   "source": [
    "model_xg_other = xgboost.XGBRegressor(n_estimators=150, max_depth=20)\n",
    "model_xg_other.fit(others.drop(['Num', 'y'], axis=1), others['y'])"
   ]
  },
  {
   "cell_type": "code",
   "execution_count": 20,
   "metadata": {},
   "outputs": [
    {
     "data": {
      "text/plain": [
       "14.77737120322563"
      ]
     },
     "execution_count": 20,
     "metadata": {},
     "output_type": "execute_result"
    }
   ],
   "source": [
    "smape(model_xg_other.predict(valid_others_w_mean.drop(['Num', 'y'], axis=1)), valid_others_w_mean['y'])"
   ]
  },
  {
   "cell_type": "code",
   "execution_count": 21,
   "metadata": {},
   "outputs": [
    {
     "data": {
      "text/html": [
       "<div>\n",
       "<style>\n",
       "    .dataframe thead tr:only-child th {\n",
       "        text-align: right;\n",
       "    }\n",
       "\n",
       "    .dataframe thead th {\n",
       "        text-align: left;\n",
       "    }\n",
       "\n",
       "    .dataframe tbody tr th {\n",
       "        vertical-align: top;\n",
       "    }\n",
       "</style>\n",
       "<table border=\"1\" class=\"dataframe\">\n",
       "  <thead>\n",
       "    <tr style=\"text-align: right;\">\n",
       "      <th></th>\n",
       "      <th>Num</th>\n",
       "      <th>year</th>\n",
       "      <th>week</th>\n",
       "      <th>shift</th>\n",
       "      <th>item_id</th>\n",
       "      <th>f1</th>\n",
       "      <th>f2</th>\n",
       "      <th>f3</th>\n",
       "      <th>f4</th>\n",
       "      <th>f5</th>\n",
       "      <th>...</th>\n",
       "      <th>f51</th>\n",
       "      <th>f52</th>\n",
       "      <th>f53</th>\n",
       "      <th>f54</th>\n",
       "      <th>f55</th>\n",
       "      <th>f56</th>\n",
       "      <th>f57</th>\n",
       "      <th>f58</th>\n",
       "      <th>f59</th>\n",
       "      <th>f60</th>\n",
       "    </tr>\n",
       "  </thead>\n",
       "  <tbody>\n",
       "    <tr>\n",
       "      <th>0</th>\n",
       "      <td>348622</td>\n",
       "      <td>2015</td>\n",
       "      <td>3</td>\n",
       "      <td>3</td>\n",
       "      <td>20447918</td>\n",
       "      <td>960.0</td>\n",
       "      <td>820.0</td>\n",
       "      <td>1128.0</td>\n",
       "      <td>1801.0</td>\n",
       "      <td>1045.0</td>\n",
       "      <td>...</td>\n",
       "      <td>1510.0</td>\n",
       "      <td>580.0</td>\n",
       "      <td>969.0</td>\n",
       "      <td>1635.0</td>\n",
       "      <td>895.0</td>\n",
       "      <td>2140.0</td>\n",
       "      <td>1182.0</td>\n",
       "      <td>1020.0</td>\n",
       "      <td>1293.0</td>\n",
       "      <td>1290.0</td>\n",
       "    </tr>\n",
       "    <tr>\n",
       "      <th>1</th>\n",
       "      <td>348623</td>\n",
       "      <td>2015</td>\n",
       "      <td>3</td>\n",
       "      <td>3</td>\n",
       "      <td>20447902</td>\n",
       "      <td>9086.0</td>\n",
       "      <td>12585.0</td>\n",
       "      <td>11595.0</td>\n",
       "      <td>9685.0</td>\n",
       "      <td>12917.0</td>\n",
       "      <td>...</td>\n",
       "      <td>22055.0</td>\n",
       "      <td>14235.0</td>\n",
       "      <td>21195.0</td>\n",
       "      <td>18280.0</td>\n",
       "      <td>18270.0</td>\n",
       "      <td>15851.0</td>\n",
       "      <td>16920.0</td>\n",
       "      <td>18320.0</td>\n",
       "      <td>24116.0</td>\n",
       "      <td>21307.0</td>\n",
       "    </tr>\n",
       "    <tr>\n",
       "      <th>2</th>\n",
       "      <td>348624</td>\n",
       "      <td>2015</td>\n",
       "      <td>3</td>\n",
       "      <td>3</td>\n",
       "      <td>20447732</td>\n",
       "      <td>115087.0</td>\n",
       "      <td>147287.0</td>\n",
       "      <td>176065.0</td>\n",
       "      <td>143105.0</td>\n",
       "      <td>202069.0</td>\n",
       "      <td>...</td>\n",
       "      <td>302165.0</td>\n",
       "      <td>162232.0</td>\n",
       "      <td>221622.0</td>\n",
       "      <td>256605.0</td>\n",
       "      <td>240047.0</td>\n",
       "      <td>236630.0</td>\n",
       "      <td>206697.0</td>\n",
       "      <td>245652.0</td>\n",
       "      <td>286179.0</td>\n",
       "      <td>285904.0</td>\n",
       "    </tr>\n",
       "    <tr>\n",
       "      <th>3</th>\n",
       "      <td>348625</td>\n",
       "      <td>2015</td>\n",
       "      <td>3</td>\n",
       "      <td>3</td>\n",
       "      <td>20443951</td>\n",
       "      <td>20900.0</td>\n",
       "      <td>24420.0</td>\n",
       "      <td>27068.0</td>\n",
       "      <td>20460.0</td>\n",
       "      <td>25580.0</td>\n",
       "      <td>...</td>\n",
       "      <td>39055.0</td>\n",
       "      <td>14445.0</td>\n",
       "      <td>22450.0</td>\n",
       "      <td>22093.0</td>\n",
       "      <td>31175.0</td>\n",
       "      <td>23355.0</td>\n",
       "      <td>15358.0</td>\n",
       "      <td>18930.0</td>\n",
       "      <td>29643.0</td>\n",
       "      <td>33970.0</td>\n",
       "    </tr>\n",
       "    <tr>\n",
       "      <th>4</th>\n",
       "      <td>348626</td>\n",
       "      <td>2015</td>\n",
       "      <td>3</td>\n",
       "      <td>3</td>\n",
       "      <td>20443944</td>\n",
       "      <td>4430.0</td>\n",
       "      <td>5864.0</td>\n",
       "      <td>3310.0</td>\n",
       "      <td>1853.0</td>\n",
       "      <td>2836.0</td>\n",
       "      <td>...</td>\n",
       "      <td>120.0</td>\n",
       "      <td>130.0</td>\n",
       "      <td>60.0</td>\n",
       "      <td>30.0</td>\n",
       "      <td>50.0</td>\n",
       "      <td>20.0</td>\n",
       "      <td>20.0</td>\n",
       "      <td>30.0</td>\n",
       "      <td>0.0</td>\n",
       "      <td>0.0</td>\n",
       "    </tr>\n",
       "  </tbody>\n",
       "</table>\n",
       "<p>5 rows × 65 columns</p>\n",
       "</div>"
      ],
      "text/plain": [
       "      Num  year  week  shift   item_id        f1        f2        f3  \\\n",
       "0  348622  2015     3      3  20447918     960.0     820.0    1128.0   \n",
       "1  348623  2015     3      3  20447902    9086.0   12585.0   11595.0   \n",
       "2  348624  2015     3      3  20447732  115087.0  147287.0  176065.0   \n",
       "3  348625  2015     3      3  20443951   20900.0   24420.0   27068.0   \n",
       "4  348626  2015     3      3  20443944    4430.0    5864.0    3310.0   \n",
       "\n",
       "         f4        f5    ...          f51       f52       f53       f54  \\\n",
       "0    1801.0    1045.0    ...       1510.0     580.0     969.0    1635.0   \n",
       "1    9685.0   12917.0    ...      22055.0   14235.0   21195.0   18280.0   \n",
       "2  143105.0  202069.0    ...     302165.0  162232.0  221622.0  256605.0   \n",
       "3   20460.0   25580.0    ...      39055.0   14445.0   22450.0   22093.0   \n",
       "4    1853.0    2836.0    ...        120.0     130.0      60.0      30.0   \n",
       "\n",
       "        f55       f56       f57       f58       f59       f60  \n",
       "0     895.0    2140.0    1182.0    1020.0    1293.0    1290.0  \n",
       "1   18270.0   15851.0   16920.0   18320.0   24116.0   21307.0  \n",
       "2  240047.0  236630.0  206697.0  245652.0  286179.0  285904.0  \n",
       "3   31175.0   23355.0   15358.0   18930.0   29643.0   33970.0  \n",
       "4      50.0      20.0      20.0      30.0       0.0       0.0  \n",
       "\n",
       "[5 rows x 65 columns]"
      ]
     },
     "execution_count": 21,
     "metadata": {},
     "output_type": "execute_result"
    }
   ],
   "source": [
    "test.head()"
   ]
  },
  {
   "cell_type": "code",
   "execution_count": 22,
   "metadata": {
    "collapsed": true
   },
   "outputs": [],
   "source": [
    "valid_mean = valid.copy()\n",
    "valid_mean['mean'] = valid_mean[valid_mean.columns.values[6:]].mean(axis=1)"
   ]
  },
  {
   "cell_type": "code",
   "execution_count": 23,
   "metadata": {},
   "outputs": [
    {
     "data": {
      "text/plain": [
       "25.808339033172047"
      ]
     },
     "execution_count": 23,
     "metadata": {},
     "output_type": "execute_result"
    }
   ],
   "source": [
    "smape(model_xg.predict(valid_mean.drop(['Num', 'y'], axis=1)), valid_mean['y'])"
   ]
  },
  {
   "cell_type": "code",
   "execution_count": 24,
   "metadata": {},
   "outputs": [
    {
     "data": {
      "text/plain": [
       "187.65682590358512"
      ]
     },
     "execution_count": 24,
     "metadata": {},
     "output_type": "execute_result"
    }
   ],
   "source": [
    "smape(model_xg_other.predict(valid_mean.drop(['Num', 'y'], axis=1)), valid_mean['y'])"
   ]
  },
  {
   "cell_type": "code",
   "execution_count": 25,
   "metadata": {
    "collapsed": true
   },
   "outputs": [],
   "source": [
    "test_mean = test.copy()\n",
    "test_mean['mean'] = test_mean[test_mean.columns.values[6:]].mean(axis=1)"
   ]
  },
  {
   "cell_type": "code",
   "execution_count": 26,
   "metadata": {
    "collapsed": true
   },
   "outputs": [],
   "source": [
    "preds = model_xg.predict(test_mean.drop(['Num'], axis=1))"
   ]
  },
  {
   "cell_type": "code",
   "execution_count": 27,
   "metadata": {
    "collapsed": true
   },
   "outputs": [],
   "source": [
    "sample_submission['y'] = preds"
   ]
  },
  {
   "cell_type": "code",
   "execution_count": 29,
   "metadata": {},
   "outputs": [
    {
     "data": {
      "text/html": [
       "<div>\n",
       "<style>\n",
       "    .dataframe thead tr:only-child th {\n",
       "        text-align: right;\n",
       "    }\n",
       "\n",
       "    .dataframe thead th {\n",
       "        text-align: left;\n",
       "    }\n",
       "\n",
       "    .dataframe tbody tr th {\n",
       "        vertical-align: top;\n",
       "    }\n",
       "</style>\n",
       "<table border=\"1\" class=\"dataframe\">\n",
       "  <thead>\n",
       "    <tr style=\"text-align: right;\">\n",
       "      <th></th>\n",
       "      <th>Num</th>\n",
       "      <th>y</th>\n",
       "    </tr>\n",
       "  </thead>\n",
       "  <tbody>\n",
       "    <tr>\n",
       "      <th>0</th>\n",
       "      <td>348622</td>\n",
       "      <td>1044.086914</td>\n",
       "    </tr>\n",
       "    <tr>\n",
       "      <th>1</th>\n",
       "      <td>348623</td>\n",
       "      <td>26465.800781</td>\n",
       "    </tr>\n",
       "    <tr>\n",
       "      <th>2</th>\n",
       "      <td>348624</td>\n",
       "      <td>367160.250000</td>\n",
       "    </tr>\n",
       "    <tr>\n",
       "      <th>3</th>\n",
       "      <td>348625</td>\n",
       "      <td>26096.832031</td>\n",
       "    </tr>\n",
       "    <tr>\n",
       "      <th>4</th>\n",
       "      <td>348626</td>\n",
       "      <td>37.358944</td>\n",
       "    </tr>\n",
       "    <tr>\n",
       "      <th>5</th>\n",
       "      <td>348627</td>\n",
       "      <td>129013.039062</td>\n",
       "    </tr>\n",
       "    <tr>\n",
       "      <th>6</th>\n",
       "      <td>348628</td>\n",
       "      <td>81602.250000</td>\n",
       "    </tr>\n",
       "    <tr>\n",
       "      <th>7</th>\n",
       "      <td>348629</td>\n",
       "      <td>94526.218750</td>\n",
       "    </tr>\n",
       "    <tr>\n",
       "      <th>8</th>\n",
       "      <td>348630</td>\n",
       "      <td>98701.531250</td>\n",
       "    </tr>\n",
       "    <tr>\n",
       "      <th>9</th>\n",
       "      <td>348631</td>\n",
       "      <td>3183.448730</td>\n",
       "    </tr>\n",
       "  </tbody>\n",
       "</table>\n",
       "</div>"
      ],
      "text/plain": [
       "      Num              y\n",
       "0  348622    1044.086914\n",
       "1  348623   26465.800781\n",
       "2  348624  367160.250000\n",
       "3  348625   26096.832031\n",
       "4  348626      37.358944\n",
       "5  348627  129013.039062\n",
       "6  348628   81602.250000\n",
       "7  348629   94526.218750\n",
       "8  348630   98701.531250\n",
       "9  348631    3183.448730"
      ]
     },
     "execution_count": 29,
     "metadata": {},
     "output_type": "execute_result"
    }
   ],
   "source": [
    "sample_submission.head(10)"
   ]
  },
  {
   "cell_type": "code",
   "execution_count": 30,
   "metadata": {},
   "outputs": [
    {
     "name": "stdout",
     "output_type": "stream",
     "text": [
      "Empty DataFrame\n",
      "Columns: [Num, y]\n",
      "Index: []\n"
     ]
    }
   ],
   "source": [
    "print sample_submission[sample_submission['y'] < 0]"
   ]
  },
  {
   "cell_type": "code",
   "execution_count": 31,
   "metadata": {
    "collapsed": true
   },
   "outputs": [],
   "source": [
    "sample_submission['y'] = sample_submission['y'].map(lambda x: x if x > 0 else 0.0)"
   ]
  },
  {
   "cell_type": "code",
   "execution_count": 33,
   "metadata": {
    "collapsed": true
   },
   "outputs": [],
   "source": [
    "sample_submission.to_csv(\"answer.tsv\", sep=',', index=False)"
   ]
  },
  {
   "cell_type": "code",
   "execution_count": null,
   "metadata": {
    "collapsed": true
   },
   "outputs": [],
   "source": []
  }
 ],
 "metadata": {
  "kernelspec": {
   "display_name": "Python [conda root]",
   "language": "python",
   "name": "conda-root-py"
  },
  "language_info": {
   "codemirror_mode": {
    "name": "ipython",
    "version": 2
   },
   "file_extension": ".py",
   "mimetype": "text/x-python",
   "name": "python",
   "nbconvert_exporter": "python",
   "pygments_lexer": "ipython2",
   "version": "2.7.13"
  }
 },
 "nbformat": 4,
 "nbformat_minor": 2
}
