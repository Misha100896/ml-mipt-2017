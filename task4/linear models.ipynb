{
 "cells": [
  {
   "cell_type": "code",
   "execution_count": 1,
   "metadata": {
    "collapsed": true
   },
   "outputs": [],
   "source": [
    "import numpy as np\n",
    "import pandas as pd\n",
    "import sklearn\n",
    "from sklearn.feature_extraction.text import CountVectorizer\n",
    "from sklearn.linear_model import LogisticRegression\n",
    "from sklearn.metrics import roc_auc_score"
   ]
  },
  {
   "cell_type": "code",
   "execution_count": 2,
   "metadata": {
    "collapsed": false
   },
   "outputs": [],
   "source": [
    "train = pd.read_csv('linear_train.txt', names=['Last Name', 'Label'])\n",
    "test = pd.read_csv('linear_test.txt', names=['Last Name'])\n",
    "ans_example = pd.read_csv('linear_ans_example.txt')"
   ]
  },
  {
   "cell_type": "code",
   "execution_count": 6,
   "metadata": {
    "collapsed": false
   },
   "outputs": [],
   "source": [
    "vect = CountVectorizer(ngram_range=(1, 8), analyzer='char_wb', lowercase=False)\n",
    "fitted = vect.fit(train['Last Name'])\n",
    "train_n = fitted.transform(train['Last Name']) \n",
    "test_n = fitted.transform(test['Last Name'])"
   ]
  },
  {
   "cell_type": "code",
   "execution_count": 7,
   "metadata": {
    "collapsed": false
   },
   "outputs": [],
   "source": [
    "lg_regr = LogisticRegression(random_state=12, solver='lbfgs', warm_start=True);\n",
    "lg_regr.fit(train_n, train['Label'])\n",
    "prediction = lg_regr.predict_proba(test_n)"
   ]
  },
  {
   "cell_type": "code",
   "execution_count": 8,
   "metadata": {
    "collapsed": true
   },
   "outputs": [],
   "source": [
    "with open('answer.txt', 'w') as file_out:\n",
    "    file_out.write('Id,Answer\\n')\n",
    "    i = 0\n",
    "    for item in prediction[:, 1]:\n",
    "        file_out.write(str(i) + ',' + str(item) + '\\n')\n",
    "        i += 1"
   ]
  },
  {
   "cell_type": "code",
   "execution_count": null,
   "metadata": {
    "collapsed": true
   },
   "outputs": [],
   "source": []
  }
 ],
 "metadata": {
  "anaconda-cloud": {},
  "kernelspec": {
   "display_name": "Python [conda root]",
   "language": "python",
   "name": "conda-root-py"
  },
  "language_info": {
   "codemirror_mode": {
    "name": "ipython",
    "version": 3
   },
   "file_extension": ".py",
   "mimetype": "text/x-python",
   "name": "python",
   "nbconvert_exporter": "python",
   "pygments_lexer": "ipython3",
   "version": "3.5.2"
  }
 },
 "nbformat": 4,
 "nbformat_minor": 1
}
